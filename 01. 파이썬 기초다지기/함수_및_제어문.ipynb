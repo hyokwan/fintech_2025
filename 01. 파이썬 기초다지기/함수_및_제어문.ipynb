{
  "nbformat": 4,
  "nbformat_minor": 0,
  "metadata": {
    "colab": {
      "provenance": []
    },
    "kernelspec": {
      "name": "python3",
      "display_name": "Python 3"
    },
    "language_info": {
      "name": "python"
    }
  },
  "cells": [
    {
      "cell_type": "markdown",
      "source": [
        "### 3. 함수 및 제어문"
      ],
      "metadata": {
        "id": "Xcxi6ounoyY3"
      }
    },
    {
      "cell_type": "markdown",
      "source": [
        "### 최소 최대값을 뺀 평균을 구해보자!"
      ],
      "metadata": {
        "id": "7Kh94HOoo2fT"
      }
    },
    {
      "cell_type": "code",
      "source": [
        "### STEP1: 리스트를 선언한다 ( SCANF INPUT )\n",
        "### STEP2: 최소값/최대값 구한다\n",
        "### STEP3: 최소값 최대값 개수를 산출한다\n",
        "### STEP4: 분자: 전체합 - (최소값*최소값개수 + 최대값*최대값개수)\n",
        "###        분모: 전체개수 - (최소값개수 + 최대값 개수)\n",
        "### STEP5: 평균계산 = 분모 / 분자"
      ],
      "metadata": {
        "id": "8dGhaTIcxfRq"
      },
      "execution_count": 5,
      "outputs": []
    },
    {
      "cell_type": "code",
      "source": [
        "## 저는 일단 기능이 없으면 다른데 구현된게 있는지 찾아보고~ 없으면 개발한다!\n",
        "## 일단 있는지몰라 난 개발할래..\n",
        "## 파이썬 카이제곱 화장실을"
      ],
      "metadata": {
        "id": "r_B2kCno20Qe"
      },
      "execution_count": null,
      "outputs": []
    },
    {
      "cell_type": "code",
      "source": [
        "def listMean( inList, inExtraValue ):\n",
        "    \"\"\"\n",
        "    함수정의: 리스트(집합)값을 입력받아 최소 최대값을 제거한 후 평균 계산하는 함수\n",
        "    입력 파라미터: inList -> list\n",
        "    출력 결과: avgList -> float\n",
        "    \"\"\"\n",
        "\n",
        "    ### STEP1: 리스트를 선언한다 ( SCANF INPUT )\n",
        "    # 디버깅 할때 사용되는 변수\n",
        "    # inList = [10,20,30,40,50,60,10,20,30,70]\n",
        "    # inExtraValue = 100\n",
        "    ### STEP2: 최소값/최대값 구한다\n",
        "    minValue = min(inList)\n",
        "    maxValue = max(inList)\n",
        "    ### STEP3: 최소값 최대값 개수를 산출한다\n",
        "    minValueCnt = inList.count(minValue)\n",
        "    maxValueCnt = inList.count(maxValue)\n",
        "    # print( f\" 최소값 개수: {minValueCnt}, 최대값 개수: {maxValueCnt}\")\n",
        "    ### STEP4: 분자: 전체합 - (최소값*최소값개수 + 최대값*최대값개수)\n",
        "    ###        분모: 전체개수 - (최소값개수 + 최대값 개수)\n",
        "    bunja = sum(inList) - ( minValue*minValueCnt + maxValue * maxValueCnt )\n",
        "    bunmo = len(inList) - ( minValueCnt + maxValueCnt )\n",
        "    ### STEP5: 평균계산 = 분모 / 분자 (분모 0처리!!)\n",
        "    avgList = 0.0\n",
        "    if (bunmo != 0):\n",
        "        avgList = bunja / bunmo\n",
        "    else:\n",
        "        avgList = 0.0\n",
        "    # print( f\" 입력된 리스트의 평균값은 {avgList} 입니다.\")\n",
        "    avgList = avgList + inExtraValue\n",
        "\n",
        "    return avgList"
      ],
      "metadata": {
        "id": "XxqpRhTZ0j3L"
      },
      "execution_count": 43,
      "outputs": []
    },
    {
      "cell_type": "code",
      "source": [
        "qtyList = [10,10,10,20,20,20,30,1,2,3,4,5,6,7,8,9]\n",
        "energyList = [1000,2000,3000,4000,5000]\n",
        "scoreList = [5,3,3,2,4,5,6,2,1,2]"
      ],
      "metadata": {
        "id": "rcH8CaLn1lMS"
      },
      "execution_count": 44,
      "outputs": []
    },
    {
      "cell_type": "code",
      "source": [
        "listMean(scoreList)"
      ],
      "metadata": {
        "colab": {
          "base_uri": "https://localhost:8080/",
          "height": 147
        },
        "id": "G7eQ_-1i-08I",
        "outputId": "69968290-83a5-443e-aa1c-b2310b6a5d2e"
      },
      "execution_count": 48,
      "outputs": [
        {
          "output_type": "error",
          "ename": "TypeError",
          "evalue": "listMean() missing 1 required positional argument: 'inExtraValue'",
          "traceback": [
            "\u001b[0;31m---------------------------------------------------------------------------\u001b[0m",
            "\u001b[0;31mTypeError\u001b[0m                                 Traceback (most recent call last)",
            "\u001b[0;32m<ipython-input-48-31d208fd2986>\u001b[0m in \u001b[0;36m<cell line: 0>\u001b[0;34m()\u001b[0m\n\u001b[0;32m----> 1\u001b[0;31m \u001b[0mlistMean\u001b[0m\u001b[0;34m(\u001b[0m\u001b[0mscoreList\u001b[0m\u001b[0;34m)\u001b[0m\u001b[0;34m\u001b[0m\u001b[0;34m\u001b[0m\u001b[0m\n\u001b[0m",
            "\u001b[0;31mTypeError\u001b[0m: listMean() missing 1 required positional argument: 'inExtraValue'"
          ]
        }
      ]
    },
    {
      "cell_type": "markdown",
      "source": [
        "### 디버깅"
      ],
      "metadata": {
        "id": "LxRLCeOj-DhK"
      }
    },
    {
      "cell_type": "code",
      "source": [
        "\"\"\"\n",
        "함수정의: 리스트(집합)값을 입력받아 최소 최대값을 제거한 후 평균 계산하는 함수\n",
        "입력 파라미터: inList -> list\n",
        "출력 결과: avgList -> float\n",
        "\"\"\"\n",
        "\n",
        "### STEP1: 리스트를 선언한다 ( SCANF INPUT )\n",
        "# 디버깅 할때 사용되는 변수\n",
        "inList = [10,20,30,40,50,60,10,20,30,70]\n",
        "inExtraValue = 100\n",
        "### STEP2: 최소값/최대값 구한다\n",
        "minValue = min(inList)\n",
        "maxValue = max(inList)\n",
        "### STEP3: 최소값 최대값 개수를 산출한다\n",
        "minValueCnt = inList.count(minValue)\n",
        "maxValueCnt = inList.count(maxValue)\n",
        "# print( f\" 최소값 개수: {minValueCnt}, 최대값 개수: {maxValueCnt}\")\n",
        "### STEP4: 분자: 전체합 - (최소값*최소값개수 + 최대값*최대값개수)\n",
        "###        분모: 전체개수 - (최소값개수 + 최대값 개수)\n",
        "bunja = sum(inList) - ( minValue*minValueCnt + maxValue * maxValueCnt )\n",
        "bunmo = len(inList) - ( minValueCnt + maxValueCnt )\n",
        "### STEP5: 평균계산 = 분모 / 분자 (분모 0처리!!)\n",
        "avgList = 0.0\n",
        "if (bunmo != 0):\n",
        "    avgList = bunja / bunmo\n",
        "else:\n",
        "    avgList = 0.0\n",
        "# print( f\" 입력된 리스트의 평균값은 {avgList} 입니다.\")\n",
        "avgList = avgList + inExtraValue\n",
        "avgList\n",
        "# return avgList"
      ],
      "metadata": {
        "colab": {
          "base_uri": "https://localhost:8080/"
        },
        "id": "2caKv8tr-De1",
        "outputId": "d896c97f-c5ff-4b0e-f3c5-1e613dd3a00f"
      },
      "execution_count": 42,
      "outputs": [
        {
          "output_type": "execute_result",
          "data": {
            "text/plain": [
              "135.71428571428572"
            ]
          },
          "metadata": {},
          "execution_count": 42
        }
      ]
    },
    {
      "cell_type": "code",
      "source": [],
      "metadata": {
        "id": "3n9trORy-DcY"
      },
      "execution_count": null,
      "outputs": []
    },
    {
      "cell_type": "code",
      "source": [],
      "metadata": {
        "id": "5AVUvDWs-DZ4"
      },
      "execution_count": null,
      "outputs": []
    },
    {
      "cell_type": "code",
      "source": [
        "listMean( 입력파라미터 )"
      ],
      "metadata": {
        "id": "hBVEPT608MMx"
      },
      "execution_count": null,
      "outputs": []
    },
    {
      "cell_type": "code",
      "source": [
        "#최소값과 최대값을 뺀 평균을 구했지만...\n",
        "#다른 기능이 추가되었다! + 100을 해야한다!!"
      ],
      "metadata": {
        "id": "O7qUZGBF92YE"
      },
      "execution_count": null,
      "outputs": []
    },
    {
      "cell_type": "code",
      "source": [
        "listMean( [1,2,3,4,\\] )"
      ],
      "metadata": {
        "colab": {
          "base_uri": "https://localhost:8080/",
          "height": 147
        },
        "id": "zioPGC-L9rkg",
        "outputId": "21f8b1d6-d287-4cb0-ee00-cf0df9491656"
      },
      "execution_count": 40,
      "outputs": [
        {
          "output_type": "error",
          "ename": "TypeError",
          "evalue": "listMean() missing 1 required positional argument: 'inList'",
          "traceback": [
            "\u001b[0;31m---------------------------------------------------------------------------\u001b[0m",
            "\u001b[0;31mTypeError\u001b[0m                                 Traceback (most recent call last)",
            "\u001b[0;32m<ipython-input-40-1d28217de363>\u001b[0m in \u001b[0;36m<cell line: 0>\u001b[0;34m()\u001b[0m\n\u001b[0;32m----> 1\u001b[0;31m \u001b[0mlistMean\u001b[0m\u001b[0;34m(\u001b[0m  \u001b[0;34m)\u001b[0m\u001b[0;34m\u001b[0m\u001b[0;34m\u001b[0m\u001b[0m\n\u001b[0m",
            "\u001b[0;31mTypeError\u001b[0m: listMean() missing 1 required positional argument: 'inList'"
          ]
        }
      ]
    },
    {
      "cell_type": "code",
      "source": [
        "scoreMean = listMean(  scoreList )\n",
        "scoreMean"
      ],
      "metadata": {
        "colab": {
          "base_uri": "https://localhost:8080/"
        },
        "id": "XHqhbr7y1oA-",
        "outputId": "def7b76a-fe55-46fa-f044-adb16953893b"
      },
      "execution_count": 34,
      "outputs": [
        {
          "output_type": "execute_result",
          "data": {
            "text/plain": [
              "3.25"
            ]
          },
          "metadata": {},
          "execution_count": 34
        }
      ]
    },
    {
      "cell_type": "code",
      "source": [
        "import pandas as pd"
      ],
      "metadata": {
        "id": "5Z_ht8zH9Czp"
      },
      "execution_count": 36,
      "outputs": []
    },
    {
      "cell_type": "code",
      "source": [
        "strValue = \"10\""
      ],
      "metadata": {
        "id": "JnZcavRH9HXY"
      },
      "execution_count": 38,
      "outputs": []
    },
    {
      "cell_type": "code",
      "source": [
        "strValue.count("
      ],
      "metadata": {
        "id": "bJokQsen9HUz"
      },
      "execution_count": null,
      "outputs": []
    },
    {
      "cell_type": "code",
      "source": [],
      "metadata": {
        "id": "9Ksrd8cX9HSX"
      },
      "execution_count": null,
      "outputs": []
    },
    {
      "cell_type": "code",
      "source": [
        "myResult"
      ],
      "metadata": {
        "colab": {
          "base_uri": "https://localhost:8080/"
        },
        "id": "wMsmwz0Z11Cj",
        "outputId": "bdb5d68e-9c7f-478d-c382-3ca5c2f5af75"
      },
      "execution_count": 23,
      "outputs": [
        {
          "output_type": "execute_result",
          "data": {
            "text/plain": [
              "35.714285714285715"
            ]
          },
          "metadata": {},
          "execution_count": 23
        }
      ]
    },
    {
      "cell_type": "code",
      "source": [
        "### STEP1: 리스트를 선언한다 ( SCANF INPUT )\n",
        "inList = [222,333,4,2222,]\n",
        "### STEP2: 최소값/최대값 구한다\n",
        "minValue = min(inList)\n",
        "maxValue = max(inList)\n",
        "### STEP3: 최소값 최대값 개수를 산출한다\n",
        "minValueCnt = inList.count(minValue)\n",
        "maxValueCnt = inList.count(maxValue)\n",
        "print( f\" 최소값 개수: {minValueCnt}, 최대값 개수: {maxValueCnt}\")\n",
        "### STEP4: 분자: 전체합 - (최소값*최소값개수 + 최대값*최대값개수)\n",
        "###        분모: 전체개수 - (최소값개수 + 최대값 개수)\n",
        "bunja = sum(inList) - ( minValue*minValueCnt + maxValue * maxValueCnt )\n",
        "bunmo = len(inList) - ( minValueCnt + maxValueCnt )\n",
        "### STEP5: 평균계산 = 분모 / 분자 (분모 0처리!!)\n",
        "avgList = 0.0\n",
        "if (bunmo != 0):\n",
        "    avgList = bunja / bunmo\n",
        "else:\n",
        "    avgList = 0.0\n",
        "print( f\" 입력된 리스트의 평균값은 {avgList} 입니다.\")"
      ],
      "metadata": {
        "id": "hiHOaj_w0EAH"
      },
      "execution_count": null,
      "outputs": []
    },
    {
      "cell_type": "code",
      "source": [],
      "metadata": {
        "id": "rM5nnI46zh_h"
      },
      "execution_count": null,
      "outputs": []
    }
  ]
}