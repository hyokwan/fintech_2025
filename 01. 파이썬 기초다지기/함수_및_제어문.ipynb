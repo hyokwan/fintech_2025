{
  "nbformat": 4,
  "nbformat_minor": 0,
  "metadata": {
    "colab": {
      "provenance": []
    },
    "kernelspec": {
      "name": "python3",
      "display_name": "Python 3"
    },
    "language_info": {
      "name": "python"
    }
  },
  "cells": [
    {
      "cell_type": "markdown",
      "source": [
        "### 3. 함수 / 제어문 / 예외처리"
      ],
      "metadata": {
        "id": "Xcxi6ounoyY3"
      }
    },
    {
      "cell_type": "code",
      "source": [
        "### 함수 외부 파일 불러올때 참고\n",
        "# # # 테이블 정의서 생성용 hk공통함수 콜\n",
        "# import sys\n",
        "# sys.path.insert(1, '../Common')"
      ],
      "metadata": {
        "id": "qN35Xx8HHyJ9"
      },
      "execution_count": 10,
      "outputs": []
    },
    {
      "cell_type": "code",
      "source": [
        "def listMean( inList, inExtraValue=0.0 ):\n",
        "    \"\"\"\n",
        "    함수정의: 리스트(집합)값을 입력받아 최소 최대값을 제거한 후 평균 계산하는 함수\n",
        "    입력 파라미터: inList -> list\n",
        "    출력 결과: avgList -> float\n",
        "    \"\"\"\n",
        "\n",
        "    ### STEP1: 리스트를 선언한다 ( SCANF INPUT )\n",
        "    # 디버깅 할때 사용되는 변수\n",
        "    # inList = [10,20,30,40,50,60,10,20,30,70]\n",
        "    # inExtraValue = 100\n",
        "    ### STEP2: 최소값/최대값 구한다\n",
        "    minValue = min(inList)\n",
        "    maxValue = max(inList)\n",
        "    ### STEP3: 최소값 최대값 개수를 산출한다\n",
        "    minValueCnt = inList.count(minValue)\n",
        "    maxValueCnt = inList.count(maxValue)\n",
        "    # print( f\" 최소값 개수: {minValueCnt}, 최대값 개수: {maxValueCnt}\")\n",
        "    ### STEP4: 분자: 전체합 - (최소값*최소값개수 + 최대값*최대값개수)\n",
        "    ###        분모: 전체개수 - (최소값개수 + 최대값 개수)\n",
        "    bunja = sum(inList) - ( minValue*minValueCnt + maxValue * maxValueCnt )\n",
        "    bunmo = len(inList) - ( minValueCnt + maxValueCnt )\n",
        "    ### STEP5: 평균계산 = 분모 / 분자 (분모 0처리!!)\n",
        "    avgList = 0.0\n",
        "    if (bunmo != 0):\n",
        "        avgList = bunja / bunmo\n",
        "    else:\n",
        "        avgList = 0.0\n",
        "    # print( f\" 입력된 리스트의 평균값은 {avgList} 입니다.\")\n",
        "    avgList = avgList + inExtraValue\n",
        "\n",
        "    return avgList"
      ],
      "metadata": {
        "id": "XxqpRhTZ0j3L"
      },
      "execution_count": 2,
      "outputs": []
    },
    {
      "cell_type": "code",
      "source": [
        "qtyList = [10,10,10,20,20,20,30,1,2,3,4,5,6,7,8,9]\n",
        "energyList = [1000,2000,3000,4000,5000]\n",
        "scoreList = [5,3,3,2,4,5,6,2,1,2]"
      ],
      "metadata": {
        "id": "rcH8CaLn1lMS"
      },
      "execution_count": 3,
      "outputs": []
    },
    {
      "cell_type": "code",
      "source": [
        "### 첫번째 함수 생성 방법\n",
        "###    필요성: 프로세스를 재사용하기 위함!\n",
        "###    만드는방법:  1. 테스트데이터로 로직 생성\n",
        "###                 2. 헤더 생성 ( def .....)\n",
        "###                 3. 출력값 리턴 ( return )\n",
        "###                 4. 테스트데이터 디버깅 코드로 주석 영어!!\n",
        "###                 5. 함수 설명 생성 ( docstring )"
      ],
      "metadata": {
        "id": "aUbRTUdnAuBP"
      },
      "execution_count": 4,
      "outputs": []
    },
    {
      "cell_type": "code",
      "source": [
        "listMean(scoreList)"
      ],
      "metadata": {
        "colab": {
          "base_uri": "https://localhost:8080/"
        },
        "id": "G7eQ_-1i-08I",
        "outputId": "a4824ed4-aa05-42a1-e3a7-95ab9cd0492f"
      },
      "execution_count": 5,
      "outputs": [
        {
          "output_type": "execute_result",
          "data": {
            "text/plain": [
              "3.25"
            ]
          },
          "metadata": {},
          "execution_count": 5
        }
      ]
    },
    {
      "cell_type": "markdown",
      "source": [
        "### 반복문 제어 (break, continue, pass)"
      ],
      "metadata": {
        "id": "qzzUP4f9Me1s"
      }
    },
    {
      "cell_type": "code",
      "source": [
        "itemList = [\"MODEL01\",\"MODEL02\",\"MODEL03\"]\n",
        "recallItem = []\n",
        "recallTargetItem = \"MODEL02\"\n",
        "for i in range(0, len(itemList)):\n",
        "    print(i)\n",
        "    eachItem = itemList[i]\n",
        "    # recallTargetItem 이 운영중인 아이템중에 있으면 리스트에 저장\n",
        "    if eachItem == recallTargetItem:\n",
        "        recallItem.append(eachItem)\n",
        "        break\n",
        "        print(f\"{eachItem}은 recall 대상 아이템 입니다\")\n",
        "    else:\n",
        "        print(f\"{eachItem}은 recall 대상 아이템이 아닙니다\")"
      ],
      "metadata": {
        "colab": {
          "base_uri": "https://localhost:8080/"
        },
        "id": "srZrbTNIMePO",
        "outputId": "6e1ae32d-1537-44fe-95a4-4be8ffc14165"
      },
      "execution_count": 6,
      "outputs": [
        {
          "output_type": "stream",
          "name": "stdout",
          "text": [
            "0\n",
            "MODEL01은 recall 대상 아이템이 아닙니다\n",
            "1\n"
          ]
        }
      ]
    },
    {
      "cell_type": "markdown",
      "source": [
        "### 예외처리"
      ],
      "metadata": {
        "id": "gnd8GfKCMuSs"
      }
    },
    {
      "cell_type": "code",
      "source": [
        "from google.colab import drive\n",
        "drive.mount(\"/content/gdrive\")\n",
        "%cd /content/gdrive/MyDrive/Colab Notebooks/fintech_edu_2025/02. 파이썬 기초다지기_파이썬 핵심문법 다루기\n",
        "import pandas as pd\n",
        "dataSumList = []\n",
        "dataMaxSize = 3\n",
        "# 예외처리 file 읽고 쓸때 웹페이지에 접속할때 데이터베이스에 읽고 쓸ㄹ때\n",
        "for i in range(0, dataMaxSize):\n",
        "    fileName = f\"../dataset/kopo_product_volume{i}.csv\"\n",
        "    print(fileName)\n",
        "    try:\n",
        "        dataSumList.append( pd.read_csv(fileName) )\n",
        "    except Exception as e:\n",
        "        print(e)\n",
        "        print(\"안녕\")"
      ],
      "metadata": {
        "colab": {
          "base_uri": "https://localhost:8080/"
        },
        "id": "CXUOIna8Mv1Z",
        "outputId": "68f28b3c-7019-4449-c167-56e347f95813"
      },
      "execution_count": 7,
      "outputs": [
        {
          "output_type": "stream",
          "name": "stdout",
          "text": [
            "Mounted at /content/gdrive\n",
            "/content/gdrive/MyDrive/Colab Notebooks/fintech_edu_2025/02. 파이썬 기초다지기_파이썬 핵심문법 다루기\n",
            "../dataset/kopo_product_volume0.csv\n",
            "../dataset/kopo_product_volume1.csv\n",
            "[Errno 2] No such file or directory: '../dataset/kopo_product_volume1.csv'\n",
            "안녕\n",
            "../dataset/kopo_product_volume2.csv\n"
          ]
        }
      ]
    },
    {
      "cell_type": "markdown",
      "source": [
        "### 퀴즈 풀때 참고"
      ],
      "metadata": {
        "id": "MF3HV5KoMeNC"
      }
    },
    {
      "cell_type": "code",
      "source": [
        "!pip install isoweek"
      ],
      "metadata": {
        "colab": {
          "base_uri": "https://localhost:8080/"
        },
        "id": "goRTzIIZNALg",
        "outputId": "ec5e5ab3-930b-4676-9312-08c8ce1f0ef8"
      },
      "execution_count": 8,
      "outputs": [
        {
          "output_type": "stream",
          "name": "stdout",
          "text": [
            "Collecting isoweek\n",
            "  Downloading isoweek-1.3.3-py2.py3-none-any.whl.metadata (4.4 kB)\n",
            "Downloading isoweek-1.3.3-py2.py3-none-any.whl (7.1 kB)\n",
            "Installing collected packages: isoweek\n",
            "Successfully installed isoweek-1.3.3\n"
          ]
        }
      ]
    },
    {
      "cell_type": "code",
      "source": [
        "from isoweek import Week\n",
        "Week.last_week_of_year(2020)"
      ],
      "metadata": {
        "colab": {
          "base_uri": "https://localhost:8080/"
        },
        "id": "P1a4JrACMeKh",
        "outputId": "5a61276f-f7b4-4cf1-bcbe-3792e37aef15"
      },
      "execution_count": 9,
      "outputs": [
        {
          "output_type": "execute_result",
          "data": {
            "text/plain": [
              "isoweek.Week(2020, 53)"
            ]
          },
          "metadata": {},
          "execution_count": 9
        }
      ]
    }
  ]
}